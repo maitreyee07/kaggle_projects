{
 "cells": [
  {
   "cell_type": "code",
   "execution_count": 1,
   "id": "a7a6b86f",
   "metadata": {
    "_cell_guid": "b1076dfc-b9ad-4769-8c92-a6c4dae69d19",
    "_uuid": "8f2839f25d086af736a60e9eeb907d3b93b6e0e5",
    "execution": {
     "iopub.execute_input": "2024-07-02T17:58:31.182171Z",
     "iopub.status.busy": "2024-07-02T17:58:31.181750Z",
     "iopub.status.idle": "2024-07-02T17:58:32.156949Z",
     "shell.execute_reply": "2024-07-02T17:58:32.155625Z"
    },
    "papermill": {
     "duration": 0.984339,
     "end_time": "2024-07-02T17:58:32.159503",
     "exception": false,
     "start_time": "2024-07-02T17:58:31.175164",
     "status": "completed"
    },
    "tags": []
   },
   "outputs": [
    {
     "name": "stdout",
     "output_type": "stream",
     "text": [
      "/kaggle/input/titanic/train.csv\n",
      "/kaggle/input/titanic/test.csv\n",
      "/kaggle/input/titanic/gender_submission.csv\n"
     ]
    }
   ],
   "source": [
    "# This Python 3 environment comes with many helpful analytics libraries installed\n",
    "# It is defined by the kaggle/python Docker image: https://github.com/kaggle/docker-python\n",
    "# For example, here's several helpful packages to load\n",
    "\n",
    "import numpy as np # linear algebra\n",
    "import pandas as pd # data processing, CSV file I/O (e.g. pd.read_csv)\n",
    "\n",
    "# Input data files are available in the read-only \"../input/\" directory\n",
    "# For example, running this (by clicking run or pressing Shift+Enter) will list all files under the input directory\n",
    "\n",
    "import os\n",
    "for dirname, _, filenames in os.walk('/kaggle/input'):\n",
    "    for filename in filenames:\n",
    "        print(os.path.join(dirname, filename))\n",
    "\n",
    "# You can write up to 20GB to the current directory (/kaggle/working/) that gets preserved as output when you create a version using \"Save & Run All\" \n",
    "# You can also write temporary files to /kaggle/temp/, but they won't be saved outside of the current session"
   ]
  },
  {
   "cell_type": "code",
   "execution_count": 2,
   "id": "ecfb013a",
   "metadata": {
    "execution": {
     "iopub.execute_input": "2024-07-02T17:58:32.170476Z",
     "iopub.status.busy": "2024-07-02T17:58:32.169920Z",
     "iopub.status.idle": "2024-07-02T17:58:32.194591Z",
     "shell.execute_reply": "2024-07-02T17:58:32.193391Z"
    },
    "papermill": {
     "duration": 0.033251,
     "end_time": "2024-07-02T17:58:32.197488",
     "exception": false,
     "start_time": "2024-07-02T17:58:32.164237",
     "status": "completed"
    },
    "tags": []
   },
   "outputs": [],
   "source": [
    "import pandas as pd \n",
    "import numpy as np\n",
    "import matplotlib.pyplot as plt\n",
    "train_data = pd.read_csv('/kaggle/input/titanic/train.csv')\n"
   ]
  },
  {
   "cell_type": "code",
   "execution_count": 3,
   "id": "2affa55e",
   "metadata": {
    "execution": {
     "iopub.execute_input": "2024-07-02T17:58:32.208411Z",
     "iopub.status.busy": "2024-07-02T17:58:32.207974Z",
     "iopub.status.idle": "2024-07-02T17:58:32.238480Z",
     "shell.execute_reply": "2024-07-02T17:58:32.237334Z"
    },
    "papermill": {
     "duration": 0.038867,
     "end_time": "2024-07-02T17:58:32.240999",
     "exception": false,
     "start_time": "2024-07-02T17:58:32.202132",
     "status": "completed"
    },
    "tags": []
   },
   "outputs": [
    {
     "data": {
      "text/html": [
       "<div>\n",
       "<style scoped>\n",
       "    .dataframe tbody tr th:only-of-type {\n",
       "        vertical-align: middle;\n",
       "    }\n",
       "\n",
       "    .dataframe tbody tr th {\n",
       "        vertical-align: top;\n",
       "    }\n",
       "\n",
       "    .dataframe thead th {\n",
       "        text-align: right;\n",
       "    }\n",
       "</style>\n",
       "<table border=\"1\" class=\"dataframe\">\n",
       "  <thead>\n",
       "    <tr style=\"text-align: right;\">\n",
       "      <th></th>\n",
       "      <th>PassengerId</th>\n",
       "      <th>Survived</th>\n",
       "      <th>Pclass</th>\n",
       "      <th>Name</th>\n",
       "      <th>Sex</th>\n",
       "      <th>Age</th>\n",
       "      <th>SibSp</th>\n",
       "      <th>Parch</th>\n",
       "      <th>Ticket</th>\n",
       "      <th>Fare</th>\n",
       "      <th>Cabin</th>\n",
       "      <th>Embarked</th>\n",
       "    </tr>\n",
       "  </thead>\n",
       "  <tbody>\n",
       "    <tr>\n",
       "      <th>0</th>\n",
       "      <td>1</td>\n",
       "      <td>0</td>\n",
       "      <td>3</td>\n",
       "      <td>Braund, Mr. Owen Harris</td>\n",
       "      <td>male</td>\n",
       "      <td>22.0</td>\n",
       "      <td>1</td>\n",
       "      <td>0</td>\n",
       "      <td>A/5 21171</td>\n",
       "      <td>7.2500</td>\n",
       "      <td>NaN</td>\n",
       "      <td>S</td>\n",
       "    </tr>\n",
       "    <tr>\n",
       "      <th>1</th>\n",
       "      <td>2</td>\n",
       "      <td>1</td>\n",
       "      <td>1</td>\n",
       "      <td>Cumings, Mrs. John Bradley (Florence Briggs Th...</td>\n",
       "      <td>female</td>\n",
       "      <td>38.0</td>\n",
       "      <td>1</td>\n",
       "      <td>0</td>\n",
       "      <td>PC 17599</td>\n",
       "      <td>71.2833</td>\n",
       "      <td>C85</td>\n",
       "      <td>C</td>\n",
       "    </tr>\n",
       "    <tr>\n",
       "      <th>2</th>\n",
       "      <td>3</td>\n",
       "      <td>1</td>\n",
       "      <td>3</td>\n",
       "      <td>Heikkinen, Miss. Laina</td>\n",
       "      <td>female</td>\n",
       "      <td>26.0</td>\n",
       "      <td>0</td>\n",
       "      <td>0</td>\n",
       "      <td>STON/O2. 3101282</td>\n",
       "      <td>7.9250</td>\n",
       "      <td>NaN</td>\n",
       "      <td>S</td>\n",
       "    </tr>\n",
       "    <tr>\n",
       "      <th>3</th>\n",
       "      <td>4</td>\n",
       "      <td>1</td>\n",
       "      <td>1</td>\n",
       "      <td>Futrelle, Mrs. Jacques Heath (Lily May Peel)</td>\n",
       "      <td>female</td>\n",
       "      <td>35.0</td>\n",
       "      <td>1</td>\n",
       "      <td>0</td>\n",
       "      <td>113803</td>\n",
       "      <td>53.1000</td>\n",
       "      <td>C123</td>\n",
       "      <td>S</td>\n",
       "    </tr>\n",
       "    <tr>\n",
       "      <th>4</th>\n",
       "      <td>5</td>\n",
       "      <td>0</td>\n",
       "      <td>3</td>\n",
       "      <td>Allen, Mr. William Henry</td>\n",
       "      <td>male</td>\n",
       "      <td>35.0</td>\n",
       "      <td>0</td>\n",
       "      <td>0</td>\n",
       "      <td>373450</td>\n",
       "      <td>8.0500</td>\n",
       "      <td>NaN</td>\n",
       "      <td>S</td>\n",
       "    </tr>\n",
       "  </tbody>\n",
       "</table>\n",
       "</div>"
      ],
      "text/plain": [
       "   PassengerId  Survived  Pclass  \\\n",
       "0            1         0       3   \n",
       "1            2         1       1   \n",
       "2            3         1       3   \n",
       "3            4         1       1   \n",
       "4            5         0       3   \n",
       "\n",
       "                                                Name     Sex   Age  SibSp  \\\n",
       "0                            Braund, Mr. Owen Harris    male  22.0      1   \n",
       "1  Cumings, Mrs. John Bradley (Florence Briggs Th...  female  38.0      1   \n",
       "2                             Heikkinen, Miss. Laina  female  26.0      0   \n",
       "3       Futrelle, Mrs. Jacques Heath (Lily May Peel)  female  35.0      1   \n",
       "4                           Allen, Mr. William Henry    male  35.0      0   \n",
       "\n",
       "   Parch            Ticket     Fare Cabin Embarked  \n",
       "0      0         A/5 21171   7.2500   NaN        S  \n",
       "1      0          PC 17599  71.2833   C85        C  \n",
       "2      0  STON/O2. 3101282   7.9250   NaN        S  \n",
       "3      0            113803  53.1000  C123        S  \n",
       "4      0            373450   8.0500   NaN        S  "
      ]
     },
     "execution_count": 3,
     "metadata": {},
     "output_type": "execute_result"
    }
   ],
   "source": [
    "train_data.head()"
   ]
  },
  {
   "cell_type": "code",
   "execution_count": 4,
   "id": "019de242",
   "metadata": {
    "execution": {
     "iopub.execute_input": "2024-07-02T17:58:32.253047Z",
     "iopub.status.busy": "2024-07-02T17:58:32.252118Z",
     "iopub.status.idle": "2024-07-02T17:58:32.276184Z",
     "shell.execute_reply": "2024-07-02T17:58:32.274939Z"
    },
    "papermill": {
     "duration": 0.033021,
     "end_time": "2024-07-02T17:58:32.278936",
     "exception": false,
     "start_time": "2024-07-02T17:58:32.245915",
     "status": "completed"
    },
    "tags": []
   },
   "outputs": [
    {
     "name": "stdout",
     "output_type": "stream",
     "text": [
      "<class 'pandas.core.frame.DataFrame'>\n",
      "RangeIndex: 891 entries, 0 to 890\n",
      "Data columns (total 12 columns):\n",
      " #   Column       Non-Null Count  Dtype  \n",
      "---  ------       --------------  -----  \n",
      " 0   PassengerId  891 non-null    int64  \n",
      " 1   Survived     891 non-null    int64  \n",
      " 2   Pclass       891 non-null    int64  \n",
      " 3   Name         891 non-null    object \n",
      " 4   Sex          891 non-null    object \n",
      " 5   Age          714 non-null    float64\n",
      " 6   SibSp        891 non-null    int64  \n",
      " 7   Parch        891 non-null    int64  \n",
      " 8   Ticket       891 non-null    object \n",
      " 9   Fare         891 non-null    float64\n",
      " 10  Cabin        204 non-null    object \n",
      " 11  Embarked     889 non-null    object \n",
      "dtypes: float64(2), int64(5), object(5)\n",
      "memory usage: 83.7+ KB\n"
     ]
    }
   ],
   "source": [
    "train_data.info()"
   ]
  },
  {
   "cell_type": "code",
   "execution_count": 5,
   "id": "cd0d7cca",
   "metadata": {
    "execution": {
     "iopub.execute_input": "2024-07-02T17:58:32.290875Z",
     "iopub.status.busy": "2024-07-02T17:58:32.290496Z",
     "iopub.status.idle": "2024-07-02T17:58:32.302392Z",
     "shell.execute_reply": "2024-07-02T17:58:32.301075Z"
    },
    "papermill": {
     "duration": 0.020895,
     "end_time": "2024-07-02T17:58:32.304952",
     "exception": false,
     "start_time": "2024-07-02T17:58:32.284057",
     "status": "completed"
    },
    "tags": []
   },
   "outputs": [
    {
     "data": {
      "text/plain": [
       "PassengerId      0\n",
       "Survived         0\n",
       "Pclass           0\n",
       "Name             0\n",
       "Sex              0\n",
       "Age            177\n",
       "SibSp            0\n",
       "Parch            0\n",
       "Ticket           0\n",
       "Fare             0\n",
       "Cabin          687\n",
       "Embarked         2\n",
       "dtype: int64"
      ]
     },
     "execution_count": 5,
     "metadata": {},
     "output_type": "execute_result"
    }
   ],
   "source": [
    "train_data.isnull().sum()"
   ]
  },
  {
   "cell_type": "code",
   "execution_count": 6,
   "id": "9ca7c44c",
   "metadata": {
    "execution": {
     "iopub.execute_input": "2024-07-02T17:58:32.318300Z",
     "iopub.status.busy": "2024-07-02T17:58:32.317340Z",
     "iopub.status.idle": "2024-07-02T17:58:32.329679Z",
     "shell.execute_reply": "2024-07-02T17:58:32.328524Z"
    },
    "papermill": {
     "duration": 0.021548,
     "end_time": "2024-07-02T17:58:32.332267",
     "exception": false,
     "start_time": "2024-07-02T17:58:32.310719",
     "status": "completed"
    },
    "tags": []
   },
   "outputs": [
    {
     "data": {
      "text/plain": [
       "PassengerId      0\n",
       "Survived         0\n",
       "Pclass           0\n",
       "Name             0\n",
       "Sex              0\n",
       "Age              0\n",
       "SibSp            0\n",
       "Parch            0\n",
       "Ticket           0\n",
       "Fare             0\n",
       "Cabin          687\n",
       "Embarked         2\n",
       "dtype: int64"
      ]
     },
     "execution_count": 6,
     "metadata": {},
     "output_type": "execute_result"
    }
   ],
   "source": [
    "train_data['Age'] = train_data['Age'].mean()\n",
    "train_data.isnull().sum()"
   ]
  },
  {
   "cell_type": "code",
   "execution_count": 7,
   "id": "b45d2bca",
   "metadata": {
    "execution": {
     "iopub.execute_input": "2024-07-02T17:58:32.344714Z",
     "iopub.status.busy": "2024-07-02T17:58:32.344337Z",
     "iopub.status.idle": "2024-07-02T17:58:32.355731Z",
     "shell.execute_reply": "2024-07-02T17:58:32.354658Z"
    },
    "papermill": {
     "duration": 0.021083,
     "end_time": "2024-07-02T17:58:32.358631",
     "exception": false,
     "start_time": "2024-07-02T17:58:32.337548",
     "status": "completed"
    },
    "tags": []
   },
   "outputs": [
    {
     "name": "stderr",
     "output_type": "stream",
     "text": [
      "/tmp/ipykernel_19/2776268125.py:1: FutureWarning: A value is trying to be set on a copy of a DataFrame or Series through chained assignment using an inplace method.\n",
      "The behavior will change in pandas 3.0. This inplace method will never work because the intermediate object on which we are setting values always behaves as a copy.\n",
      "\n",
      "For example, when doing 'df[col].method(value, inplace=True)', try using 'df.method({col: value}, inplace=True)' or df[col] = df[col].method(value) instead, to perform the operation inplace on the original object.\n",
      "\n",
      "\n",
      "  train_data['Cabin'].fillna(value='no_cabin', inplace=True)\n"
     ]
    },
    {
     "data": {
      "text/plain": [
       "PassengerId    0\n",
       "Survived       0\n",
       "Pclass         0\n",
       "Name           0\n",
       "Sex            0\n",
       "Age            0\n",
       "SibSp          0\n",
       "Parch          0\n",
       "Ticket         0\n",
       "Fare           0\n",
       "Cabin          0\n",
       "Embarked       2\n",
       "dtype: int64"
      ]
     },
     "execution_count": 7,
     "metadata": {},
     "output_type": "execute_result"
    }
   ],
   "source": [
    "train_data['Cabin'].fillna(value='no_cabin', inplace=True) \n",
    "train_data.isnull().sum()"
   ]
  },
  {
   "cell_type": "code",
   "execution_count": 8,
   "id": "2b6a5918",
   "metadata": {
    "execution": {
     "iopub.execute_input": "2024-07-02T17:58:32.371304Z",
     "iopub.status.busy": "2024-07-02T17:58:32.370874Z",
     "iopub.status.idle": "2024-07-02T17:58:32.547739Z",
     "shell.execute_reply": "2024-07-02T17:58:32.546215Z"
    },
    "papermill": {
     "duration": 0.190756,
     "end_time": "2024-07-02T17:58:32.554886",
     "exception": false,
     "start_time": "2024-07-02T17:58:32.364130",
     "status": "completed"
    },
    "tags": []
   },
   "outputs": [
    {
     "data": {
      "image/png": "[encoded data removed]",
      "text/plain": [
       "<Figure size 640x480 with 1 Axes>"
      ]
     },
     "metadata": {},
     "output_type": "display_data"
    },
    {
     "name": "stdout",
     "output_type": "stream",
     "text": [
      "549 342\n"
     ]
    }
   ],
   "source": [
    "dead = train_data[train_data['Survived']== 0].shape[0]\n",
    "not_dead = train_data[train_data['Survived']== 1].shape[0]\n",
    "plt.bar(['dead','not_dead'],[dead,not_dead],width = 0.5,color = ['red','blue'])\n",
    "plt.show()\n",
    "print(dead,not_dead)"
   ]
  },
  {
   "cell_type": "code",
   "execution_count": 9,
   "id": "37a52374",
   "metadata": {
    "execution": {
     "iopub.execute_input": "2024-07-02T17:58:32.568702Z",
     "iopub.status.busy": "2024-07-02T17:58:32.568313Z",
     "iopub.status.idle": "2024-07-02T17:58:34.845909Z",
     "shell.execute_reply": "2024-07-02T17:58:34.844935Z"
    },
    "papermill": {
     "duration": 2.288319,
     "end_time": "2024-07-02T17:58:34.849303",
     "exception": false,
     "start_time": "2024-07-02T17:58:32.560984",
     "status": "completed"
    },
    "tags": []
   },
   "outputs": [
    {
     "data": {
      "image/png": "[encoded data removed]",
      "text/plain": [
       "<Figure size 500x500 with 1 Axes>"
      ]
     },
     "metadata": {},
     "output_type": "display_data"
    }
   ],
   "source": [
    "import seaborn as sns\n",
    "g = sns.lmplot(x = 'Fare', y ='PassengerId', hue = 'Survived', data = train_data, legend = False)\n",
    "plt.legend(title = \"survival rate\" , loc = 'upper right', labels = ['dead', 'not_dead'])\n",
    "plt.show(g)\n"
   ]
  },
  {
   "cell_type": "code",
   "execution_count": 10,
   "id": "f92d5d6c",
   "metadata": {
    "execution": {
     "iopub.execute_input": "2024-07-02T17:58:34.866084Z",
     "iopub.status.busy": "2024-07-02T17:58:34.865674Z",
     "iopub.status.idle": "2024-07-02T17:58:35.774063Z",
     "shell.execute_reply": "2024-07-02T17:58:35.772616Z"
    },
    "papermill": {
     "duration": 0.920223,
     "end_time": "2024-07-02T17:58:35.776842",
     "exception": false,
     "start_time": "2024-07-02T17:58:34.856619",
     "status": "completed"
    },
    "tags": []
   },
   "outputs": [
    {
     "name": "stdout",
     "output_type": "stream",
     "text": [
      "Your submission was successfully saved!\n"
     ]
    }
   ],
   "source": [
    "import pandas as pd\n",
    "from sklearn.ensemble import RandomForestClassifier\n",
    "from sklearn.metrics import accuracy_score\n",
    "\n",
    "# Load the training and test data\n",
    "train_data = pd.read_csv('/kaggle/input/titanic/train.csv')\n",
    "df = pd.read_csv('/kaggle/input/titanic/test.csv')\n",
    "\n",
    "y = train_data['Survived']\n",
    "features = ['Fare', 'Age', 'Sex']\n",
    "\n",
    "x = train_data[features]\n",
    "x = pd.get_dummies(x)\n",
    "x = x.fillna(x.mean())\n",
    "\n",
    "x_test = df[features]\n",
    "x_test = pd.get_dummies(x_test)\n",
    "x_test = x_test.fillna(x_test.mean())\n",
    "\n",
    "# Ensure the columns in the test set match the training set\n",
    "x, x_test = x.align(x_test, join='left', axis=1)\n",
    "\n",
    "model = RandomForestClassifier(n_estimators=100, max_depth=15, random_state=1)\n",
    "model.fit(x, y)\n",
    "\n",
    "predictions = model.predict(x_test)\n",
    "\n",
    "output = pd.DataFrame({'PassengerId': df['PassengerId'], 'Survived': predictions})\n",
    "\n",
    "output.to_csv('submission.csv', index=False)\n",
    "print(\"Your submission was successfully saved!\")"
   ]
  }
 ],
 "metadata": {
  "kaggle": {
   "accelerator": "none",
   "dataSources": [
    {
     "databundleVersionId": 26502,
     "sourceId": 3136,
     "sourceType": "competition"
    }
   ],
   "dockerImageVersionId": 30732,
   "isGpuEnabled": false,
   "isInternetEnabled": false,
   "language": "python",
   "sourceType": "notebook"
  },
  "kernelspec": {
   "display_name": "Python 3",
   "language": "python",
   "name": "python3"
  },
  "language_info": {
   "codemirror_mode": {
    "name": "ipython",
    "version": 3
   },
   "file_extension": ".py",
   "mimetype": "text/x-python",
   "name": "python",
   "nbconvert_exporter": "python",
   "pygments_lexer": "ipython3",
   "version": "3.10.13"
  },
  "papermill": {
   "default_parameters": {},
   "duration": 8.516763,
   "end_time": "2024-07-02T17:58:36.508109",
   "environment_variables": {},
   "exception": null,
   "input_path": "__notebook__.ipynb",
   "output_path": "__notebook__.ipynb",
   "parameters": {},
   "start_time": "2024-07-02T17:58:27.991346",
   "version": "2.5.0"
  }
 },
 "nbformat": 4,
 "nbformat_minor": 5
}
